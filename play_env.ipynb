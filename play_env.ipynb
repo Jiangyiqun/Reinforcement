{
 "cells": [
  {
   "cell_type": "code",
   "execution_count": 6,
   "metadata": {},
   "outputs": [
    {
     "name": "stdout",
     "output_type": "stream",
     "text": [
      "Box(4,)\n",
      "2\n"
     ]
    }
   ],
   "source": [
    "import gym\n",
    "ENV_NAME = 'CartPole-v0'\n",
    "env = gym.make(ENV_NAME)\n",
    "\n",
    "STATE_DIM = env.observation_space.shape[0]\n",
    "ACTION_DIM = env.action_space.n\n",
    "\n",
    "print(STATE_DIM)\n",
    "print(ACTION_DIM)"
   ]
  },
  {
   "cell_type": "code",
   "execution_count": 1,
   "metadata": {},
   "outputs": [
    {
     "name": "stderr",
     "output_type": "stream",
     "text": [
      "/home/z5129432/anaconda3/lib/python3.6/site-packages/h5py/__init__.py:36: FutureWarning: Conversion of the second argument of issubdtype from `float` to `np.floating` is deprecated. In future, it will be treated as `np.float64 == np.dtype(float).type`.\n",
      "  from ._conv import register_converters as _register_converters\n"
     ]
    }
   ],
   "source": [
    "import gym\n",
    "import tensorflow as tf\n",
    "import numpy as np\n",
    "import random\n",
    "\n",
    "# General Parameters\n",
    "# -- DO NOT MODIFY --\n",
    "ENV_NAME = 'CartPole-v0'\n",
    "EPISODE = 200000  # Episode limitation\n",
    "STEP = 200  # Step limitation in an episode\n",
    "TEST = 10  # The number of tests to run every TEST_FREQUENCY episodes\n",
    "TEST_FREQUENCY = 100  # Num episodes to run before visualizing test accuracy\n",
    "\n",
    "# TODO: HyperParameters\n",
    "GAMMA = 0.9 # discount factor\n",
    "INITIAL_EPSILON =  0.9# starting value of epsilon\n",
    "FINAL_EPSILON =  20# final value of epsilon\n",
    "EPSILON_DECAY_STEPS =  0.5# decay period\n",
    "\n",
    "# Create environment\n",
    "# -- DO NOT MODIFY --\n",
    "env = gym.make(ENV_NAME)\n",
    "epsilon = INITIAL_EPSILON\n",
    "STATE_DIM = env.observation_space.shape[0]\n",
    "ACTION_DIM = env.action_space.n\n",
    "# For Neural Network\n",
    "HIDDEN_LAYER_DIM = 100\n",
    "\n",
    "\n",
    "# Placeholders\n",
    "# -- DO NOT MODIFY --\n",
    "# state_in: takes the current state of the environment, which is \n",
    "#       represented in our case as a sequence of reals.\n",
    "# action_in: accepts a one-hot action input. It should be used to \"mask\"\n",
    "#       the q-values output tensor and return a q-value for that action.\n",
    "# target_in: is the Q-value we want to move the network towards producing.\n",
    "#       Note that this target value is not fixed - this is one of the\n",
    "#       components that seperates RL from other forms of machine learning.\n",
    "state_in = tf.placeholder(\"float\", [None, STATE_DIM])\n",
    "action_in = tf.placeholder(\"float\", [None, ACTION_DIM])\n",
    "target_in = tf.placeholder(\"float\", [None])\n",
    "\n",
    "# TODO: Define Network Graph\n",
    "\n",
    "# input layer\n",
    "w1 = tf.get_variable('w1', shape=[STATE_DIM, HIDDEN_LAYER_DIM],)\n",
    "b1 = tf.get_variable('b1', shape=[1, HIDDEN_LAYER_DIM],\\\n",
    "        initializer=tf.constant_initializer(0.0))\n",
    "output_1 = tf.tanh(tf.matmul(state_in, w1) + b1)\n",
    "\n",
    "# hidden layer\n",
    "w2 = tf.get_variable('w2', shape=[HIDDEN_LAYER_DIM, HIDDEN_LAYER_DIM],)\n",
    "b2 = tf.get_variable('b2', shape=[1, HIDDEN_LAYER_DIM],\\\n",
    "        initializer=tf.constant_initializer(0.0))\n",
    "output_2 = tf.tanh(tf.matmul(output_1, w2) + b2)\n",
    "\n",
    "# output layer\n",
    "w3 = tf.get_variable('w3', shape=[HIDDEN_LAYER_DIM, ACTION_DIM],)\n",
    "b3 = tf.get_variable('b3', shape=[1, ACTION_DIM],\\\n",
    "        initializer=tf.constant_initializer(0.0))\n",
    "output_3 = tf.matmul(output_2, w3) + b3\n",
    "\n",
    "# TODO: Network outputs\n",
    "# q_values: Tensor containing Q-values for all available actions i.e.\n",
    "#       if the action space is 8 this will be a rank-1 tensor of length 8\n",
    "# q_action: This should be a rank-1 tensor containing 1 element.\n",
    "#       This value should be the q-value for the action set in the\n",
    "#       action_in placeholder\n",
    "# Loss/Optimizer Definition You can define any loss function you feel is\n",
    "#       appropriate. Hint: should be a function of target_in and\n",
    "#       q_action. You should also make careful choice of the optimizer\n",
    "#       to use. \n",
    "q_values = output_3\n",
    "q_action = tf.reduce_sum(tf.multiply(q_values, action_in),\\\n",
    "        reduction_indices=1)\n",
    "\n",
    "# TODO: Loss/Optimizer Definition\n",
    "loss = tf.reduce_sum(tf.square(target_in - q_action))\n",
    "optimizer = tf.train.AdamOptimizer().minimize(loss)"
   ]
  },
  {
   "cell_type": "code",
   "execution_count": 3,
   "metadata": {},
   "outputs": [
    {
     "name": "stdout",
     "output_type": "stream",
     "text": [
      "Tensor(\"Placeholder:0\", shape=(?, 4), dtype=float32)\n",
      "Tensor(\"Placeholder_1:0\", shape=(?, 2), dtype=float32)\n",
      "Tensor(\"Placeholder_2:0\", shape=(?,), dtype=float32)\n"
     ]
    }
   ],
   "source": [
    "print(state_in)\n",
    "print(action_in)\n",
    "print(target_in)"
   ]
  },
  {
   "cell_type": "code",
   "execution_count": 4,
   "metadata": {},
   "outputs": [
    {
     "name": "stdout",
     "output_type": "stream",
     "text": [
      "Tensor(\"Tanh:0\", shape=(?, 100), dtype=float32)\n",
      "Tensor(\"Tanh_1:0\", shape=(?, 100), dtype=float32)\n",
      "Tensor(\"add_2:0\", shape=(?, 2), dtype=float32)\n"
     ]
    }
   ],
   "source": [
    "print(output_1)\n",
    "print(output_2)\n",
    "print(output_3)"
   ]
  },
  {
   "cell_type": "code",
   "execution_count": null,
   "metadata": {},
   "outputs": [],
   "source": [
    "print(q_action"
   ]
  }
 ],
 "metadata": {
  "kernelspec": {
   "display_name": "Python 3",
   "language": "python",
   "name": "python3"
  },
  "language_info": {
   "codemirror_mode": {
    "name": "ipython",
    "version": 3
   },
   "file_extension": ".py",
   "mimetype": "text/x-python",
   "name": "python",
   "nbconvert_exporter": "python",
   "pygments_lexer": "ipython3",
   "version": "3.6.5"
  }
 },
 "nbformat": 4,
 "nbformat_minor": 2
}
